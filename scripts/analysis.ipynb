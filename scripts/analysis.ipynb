{
 "cells": [
  {
   "cell_type": "code",
   "execution_count": 1,
   "metadata": {},
   "outputs": [],
   "source": [
    "import numpy as np\n",
    "import pandas as pd\n",
    "import matplotlib.pyplot as plt\n",
    "import seaborn as sns\n",
    "sns.set()\n",
    "from sklearn.metrics import confusion_matrix\n",
    "#%matplotlib\n",
    "#%matplotlib inline"
   ]
  },
  {
   "cell_type": "code",
   "execution_count": 2,
   "metadata": {},
   "outputs": [
    {
     "data": {
      "text/html": [
       "<div>\n",
       "<style scoped>\n",
       "    .dataframe tbody tr th:only-of-type {\n",
       "        vertical-align: middle;\n",
       "    }\n",
       "\n",
       "    .dataframe tbody tr th {\n",
       "        vertical-align: top;\n",
       "    }\n",
       "\n",
       "    .dataframe thead th {\n",
       "        text-align: right;\n",
       "    }\n",
       "</style>\n",
       "<table border=\"1\" class=\"dataframe\">\n",
       "  <thead>\n",
       "    <tr style=\"text-align: right;\">\n",
       "      <th></th>\n",
       "      <th>bin</th>\n",
       "      <th>comp</th>\n",
       "      <th>cont</th>\n",
       "      <th>est_cont</th>\n",
       "    </tr>\n",
       "  </thead>\n",
       "  <tbody>\n",
       "    <tr>\n",
       "      <th>0</th>\n",
       "      <td>0</td>\n",
       "      <td>0.9133</td>\n",
       "      <td>0.1683</td>\n",
       "      <td>0.137998</td>\n",
       "    </tr>\n",
       "    <tr>\n",
       "      <th>1</th>\n",
       "      <td>1</td>\n",
       "      <td>0.8685</td>\n",
       "      <td>0.0000</td>\n",
       "      <td>0.037618</td>\n",
       "    </tr>\n",
       "    <tr>\n",
       "      <th>2</th>\n",
       "      <td>2</td>\n",
       "      <td>0.7680</td>\n",
       "      <td>0.0000</td>\n",
       "      <td>0.000000</td>\n",
       "    </tr>\n",
       "    <tr>\n",
       "      <th>3</th>\n",
       "      <td>3</td>\n",
       "      <td>0.6851</td>\n",
       "      <td>0.0000</td>\n",
       "      <td>0.000000</td>\n",
       "    </tr>\n",
       "    <tr>\n",
       "      <th>4</th>\n",
       "      <td>4</td>\n",
       "      <td>0.7482</td>\n",
       "      <td>0.0000</td>\n",
       "      <td>0.000000</td>\n",
       "    </tr>\n",
       "  </tbody>\n",
       "</table>\n",
       "</div>"
      ],
      "text/plain": [
       "   bin    comp    cont  est_cont\n",
       "0    0  0.9133  0.1683  0.137998\n",
       "1    1  0.8685  0.0000  0.037618\n",
       "2    2  0.7680  0.0000  0.000000\n",
       "3    3  0.6851  0.0000  0.000000\n",
       "4    4  0.7482  0.0000  0.000000"
      ]
     },
     "execution_count": 2,
     "metadata": {},
     "output_type": "execute_result"
    }
   ],
   "source": [
    "viral_ref = pd.read_csv(\"vscont.csv\")\n",
    "viral_res = pd.read_csv(\"new_bac_vir_s_min30.csv\")\n",
    "viral_data = pd.merge(viral_ref, viral_res, on='bin')\n",
    "viral_data.head()"
   ]
  },
  {
   "cell_type": "code",
   "execution_count": 3,
   "metadata": {},
   "outputs": [
    {
     "data": {
      "text/plain": [
       "<matplotlib.axes._subplots.AxesSubplot at 0x7f1693b35eb8>"
      ]
     },
     "execution_count": 3,
     "metadata": {},
     "output_type": "execute_result"
    },
    {
     "data": {
      "image/png": "[encoded data removed]",
      "text/plain": [
       "<Figure size 432x288 with 1 Axes>"
      ]
     },
     "metadata": {
      "needs_background": "light"
     },
     "output_type": "display_data"
    }
   ],
   "source": [
    "sns.scatterplot('cont','est_cont', data=viral_data)"
   ]
  },
  {
   "cell_type": "code",
   "execution_count": null,
   "metadata": {},
   "outputs": [],
   "source": []
  },
  {
   "cell_type": "code",
   "execution_count": 4,
   "metadata": {},
   "outputs": [],
   "source": [
    "# classification\n",
    "viral_data['is_contaminated'] = np.where(viral_data['cont'] > 0.05 , 1, 0)\n",
    "viral_data['is_predicted'] = np.where(viral_data['est_cont'] > 0.05 , 1, 0)\n",
    "tn, fp, fn, tp = confusion_matrix(viral_data['is_predicted'], viral_data['is_contaminated']).ravel()"
   ]
  },
  {
   "cell_type": "code",
   "execution_count": 5,
   "metadata": {},
   "outputs": [
    {
     "name": "stdout",
     "output_type": "stream",
     "text": [
      "accuracy:  0.845\n",
      "sensitivity:  0.7692307692307693\n",
      "specificity:  0.8934426229508197\n"
     ]
    }
   ],
   "source": [
    "acc = (tp+tn)/(tn+fp+fn+tp)\n",
    "sens = tp/(tp+fn)\n",
    "spec = tn/(tn+fp)\n",
    "\n",
    "print(\"accuracy: \", acc)\n",
    "print(\"sensitivity: \", sens)\n",
    "print(\"specificity: \", spec)"
   ]
  },
  {
   "cell_type": "code",
   "execution_count": 6,
   "metadata": {},
   "outputs": [
    {
     "data": {
      "text/plain": [
       "0.10268935101658737"
      ]
     },
     "execution_count": 6,
     "metadata": {},
     "output_type": "execute_result"
    }
   ],
   "source": [
    "viral_data['error'] = viral_data['est_cont'] - viral_data['cont']\n",
    "rmse = (viral_data['error']**2).mean()**0.5\n",
    "rmse"
   ]
  },
  {
   "cell_type": "markdown",
   "metadata": {},
   "source": [
    "## CAMI data set"
   ]
  },
  {
   "cell_type": "code",
   "execution_count": 57,
   "metadata": {},
   "outputs": [
    {
     "data": {
      "text/html": [
       "<div>\n",
       "<style scoped>\n",
       "    .dataframe tbody tr th:only-of-type {\n",
       "        vertical-align: middle;\n",
       "    }\n",
       "\n",
       "    .dataframe tbody tr th {\n",
       "        vertical-align: top;\n",
       "    }\n",
       "\n",
       "    .dataframe thead th {\n",
       "        text-align: right;\n",
       "    }\n",
       "</style>\n",
       "<table border=\"1\" class=\"dataframe\">\n",
       "  <thead>\n",
       "    <tr style=\"text-align: right;\">\n",
       "      <th></th>\n",
       "      <th>bin</th>\n",
       "      <th>cont</th>\n",
       "      <th>est_cont</th>\n",
       "    </tr>\n",
       "  </thead>\n",
       "  <tbody>\n",
       "    <tr>\n",
       "      <th>0</th>\n",
       "      <td>299</td>\n",
       "      <td>0.8264</td>\n",
       "      <td>0.000000</td>\n",
       "    </tr>\n",
       "    <tr>\n",
       "      <th>1</th>\n",
       "      <td>271</td>\n",
       "      <td>0.0000</td>\n",
       "      <td>0.000000</td>\n",
       "    </tr>\n",
       "    <tr>\n",
       "      <th>2</th>\n",
       "      <td>470</td>\n",
       "      <td>0.0000</td>\n",
       "      <td>0.374194</td>\n",
       "    </tr>\n",
       "    <tr>\n",
       "      <th>3</th>\n",
       "      <td>252</td>\n",
       "      <td>0.0000</td>\n",
       "      <td>0.214405</td>\n",
       "    </tr>\n",
       "    <tr>\n",
       "      <th>4</th>\n",
       "      <td>95</td>\n",
       "      <td>0.0000</td>\n",
       "      <td>0.000000</td>\n",
       "    </tr>\n",
       "  </tbody>\n",
       "</table>\n",
       "</div>"
      ],
      "text/plain": [
       "   bin    cont  est_cont\n",
       "0  299  0.8264  0.000000\n",
       "1  271  0.0000  0.000000\n",
       "2  470  0.0000  0.374194\n",
       "3  252  0.0000  0.214405\n",
       "4   95  0.0000  0.000000"
      ]
     },
     "execution_count": 57,
     "metadata": {},
     "output_type": "execute_result"
    }
   ],
   "source": [
    "ref = pd.read_csv(\"./cami_mouse.csv\")\n",
    "res = pd.read_csv(\"./new_mouse_gut_res.csv\")\n",
    "data = pd.merge(ref, res, on='bin')\n",
    "data.head()"
   ]
  },
  {
   "cell_type": "code",
   "execution_count": 58,
   "metadata": {},
   "outputs": [
    {
     "data": {
      "text/plain": [
       "<matplotlib.axes._subplots.AxesSubplot at 0x7f16905a2c50>"
      ]
     },
     "execution_count": 58,
     "metadata": {},
     "output_type": "execute_result"
    },
    {
     "data": {
      "image/png": "[encoded data removed]",
      "text/plain": [
       "<Figure size 432x288 with 1 Axes>"
      ]
     },
     "metadata": {
      "needs_background": "light"
     },
     "output_type": "display_data"
    }
   ],
   "source": [
    "sns.scatterplot('cont', 'est_cont', data=data)"
   ]
  },
  {
   "cell_type": "code",
   "execution_count": 59,
   "metadata": {},
   "outputs": [
    {
     "data": {
      "text/html": [
       "<div>\n",
       "<style scoped>\n",
       "    .dataframe tbody tr th:only-of-type {\n",
       "        vertical-align: middle;\n",
       "    }\n",
       "\n",
       "    .dataframe tbody tr th {\n",
       "        vertical-align: top;\n",
       "    }\n",
       "\n",
       "    .dataframe thead th {\n",
       "        text-align: right;\n",
       "    }\n",
       "</style>\n",
       "<table border=\"1\" class=\"dataframe\">\n",
       "  <thead>\n",
       "    <tr style=\"text-align: right;\">\n",
       "      <th></th>\n",
       "      <th>bin</th>\n",
       "      <th>cont</th>\n",
       "      <th>est_cont</th>\n",
       "      <th>error</th>\n",
       "    </tr>\n",
       "  </thead>\n",
       "  <tbody>\n",
       "    <tr>\n",
       "      <th>0</th>\n",
       "      <td>299</td>\n",
       "      <td>0.8264</td>\n",
       "      <td>0.000000</td>\n",
       "      <td>-0.826400</td>\n",
       "    </tr>\n",
       "    <tr>\n",
       "      <th>2</th>\n",
       "      <td>470</td>\n",
       "      <td>0.0000</td>\n",
       "      <td>0.374194</td>\n",
       "      <td>0.374194</td>\n",
       "    </tr>\n",
       "    <tr>\n",
       "      <th>3</th>\n",
       "      <td>252</td>\n",
       "      <td>0.0000</td>\n",
       "      <td>0.214405</td>\n",
       "      <td>0.214405</td>\n",
       "    </tr>\n",
       "    <tr>\n",
       "      <th>6</th>\n",
       "      <td>184</td>\n",
       "      <td>0.0162</td>\n",
       "      <td>0.054441</td>\n",
       "      <td>0.038241</td>\n",
       "    </tr>\n",
       "    <tr>\n",
       "      <th>10</th>\n",
       "      <td>441</td>\n",
       "      <td>0.2297</td>\n",
       "      <td>0.000000</td>\n",
       "      <td>-0.229700</td>\n",
       "    </tr>\n",
       "  </tbody>\n",
       "</table>\n",
       "</div>"
      ],
      "text/plain": [
       "    bin    cont  est_cont     error\n",
       "0   299  0.8264  0.000000 -0.826400\n",
       "2   470  0.0000  0.374194  0.374194\n",
       "3   252  0.0000  0.214405  0.214405\n",
       "6   184  0.0162  0.054441  0.038241\n",
       "10  441  0.2297  0.000000 -0.229700"
      ]
     },
     "execution_count": 59,
     "metadata": {},
     "output_type": "execute_result"
    }
   ],
   "source": [
    "data['error'] = data['est_cont'] - data['cont']\n",
    "data.loc[abs(data['error']) > 0].head()"
   ]
  },
  {
   "cell_type": "code",
   "execution_count": 60,
   "metadata": {},
   "outputs": [
    {
     "data": {
      "text/plain": [
       "0.18131491350572035"
      ]
     },
     "execution_count": 60,
     "metadata": {},
     "output_type": "execute_result"
    }
   ],
   "source": [
    "rmse = (data['error']**2).mean()**0.5\n",
    "rmse"
   ]
  },
  {
   "cell_type": "code",
   "execution_count": 61,
   "metadata": {},
   "outputs": [
    {
     "data": {
      "text/plain": [
       "<matplotlib.axes._subplots.AxesSubplot at 0x7f1690137198>"
      ]
     },
     "execution_count": 61,
     "metadata": {},
     "output_type": "execute_result"
    },
    {
     "data": {
      "image/png": "[encoded data removed]",
      "text/plain": [
       "<Figure size 432x288 with 1 Axes>"
      ]
     },
     "metadata": {
      "needs_background": "light"
     },
     "output_type": "display_data"
    }
   ],
   "source": [
    "sns.distplot(data['error'], kde=False)"
   ]
  },
  {
   "cell_type": "code",
   "execution_count": 62,
   "metadata": {},
   "outputs": [],
   "source": [
    "# classification\n",
    "data['is_contaminated'] = np.where(data['cont'] > 0.05 , 1, 0)\n",
    "data['is_predicted'] = np.where(data['est_cont'] > 0.05 , 1, 0)\n",
    "tn, fp, fn, tp = confusion_matrix(data['is_predicted'], data['is_contaminated']).ravel()"
   ]
  },
  {
   "cell_type": "code",
   "execution_count": 63,
   "metadata": {},
   "outputs": [
    {
     "name": "stdout",
     "output_type": "stream",
     "text": [
      "accuracy:  0.7335984095427436\n",
      "sensitivity:  0.3137254901960784\n",
      "specificity:  0.7809734513274337\n"
     ]
    }
   ],
   "source": [
    "acc = (tp+tn)/(tn+fp+fn+tp)\n",
    "sens = tp/(tp+fn)\n",
    "spec = tn/(tn+fp)\n",
    "\n",
    "print(\"accuracy: \", acc)\n",
    "print(\"sensitivity: \", sens)\n",
    "print(\"specificity: \", spec)"
   ]
  },
  {
   "cell_type": "markdown",
   "metadata": {},
   "source": [
    "## Bin size"
   ]
  },
  {
   "cell_type": "code",
   "execution_count": 64,
   "metadata": {},
   "outputs": [
    {
     "data": {
      "text/html": [
       "<div>\n",
       "<style scoped>\n",
       "    .dataframe tbody tr th:only-of-type {\n",
       "        vertical-align: middle;\n",
       "    }\n",
       "\n",
       "    .dataframe tbody tr th {\n",
       "        vertical-align: top;\n",
       "    }\n",
       "\n",
       "    .dataframe thead th {\n",
       "        text-align: right;\n",
       "    }\n",
       "</style>\n",
       "<table border=\"1\" class=\"dataframe\">\n",
       "  <thead>\n",
       "    <tr style=\"text-align: right;\">\n",
       "      <th></th>\n",
       "      <th>bin</th>\n",
       "      <th>cont</th>\n",
       "      <th>est_cont</th>\n",
       "      <th>error</th>\n",
       "      <th>is_contaminated</th>\n",
       "      <th>is_predicted</th>\n",
       "      <th>size</th>\n",
       "    </tr>\n",
       "  </thead>\n",
       "  <tbody>\n",
       "    <tr>\n",
       "      <th>0</th>\n",
       "      <td>95</td>\n",
       "      <td>0.0000</td>\n",
       "      <td>0.000000</td>\n",
       "      <td>0.000000</td>\n",
       "      <td>0</td>\n",
       "      <td>0</td>\n",
       "      <td>9688324</td>\n",
       "    </tr>\n",
       "    <tr>\n",
       "      <th>3</th>\n",
       "      <td>65</td>\n",
       "      <td>0.0000</td>\n",
       "      <td>0.000000</td>\n",
       "      <td>0.000000</td>\n",
       "      <td>0</td>\n",
       "      <td>0</td>\n",
       "      <td>4021780</td>\n",
       "    </tr>\n",
       "    <tr>\n",
       "      <th>4</th>\n",
       "      <td>60</td>\n",
       "      <td>0.0000</td>\n",
       "      <td>0.280255</td>\n",
       "      <td>0.280255</td>\n",
       "      <td>0</td>\n",
       "      <td>1</td>\n",
       "      <td>7051824</td>\n",
       "    </tr>\n",
       "    <tr>\n",
       "      <th>6</th>\n",
       "      <td>116</td>\n",
       "      <td>0.3124</td>\n",
       "      <td>0.000000</td>\n",
       "      <td>-0.312400</td>\n",
       "      <td>1</td>\n",
       "      <td>0</td>\n",
       "      <td>4581231</td>\n",
       "    </tr>\n",
       "    <tr>\n",
       "      <th>19</th>\n",
       "      <td>29</td>\n",
       "      <td>0.0000</td>\n",
       "      <td>0.000000</td>\n",
       "      <td>0.000000</td>\n",
       "      <td>0</td>\n",
       "      <td>0</td>\n",
       "      <td>6638346</td>\n",
       "    </tr>\n",
       "    <tr>\n",
       "      <th>34</th>\n",
       "      <td>49</td>\n",
       "      <td>0.0617</td>\n",
       "      <td>0.000000</td>\n",
       "      <td>-0.061700</td>\n",
       "      <td>1</td>\n",
       "      <td>0</td>\n",
       "      <td>5090393</td>\n",
       "    </tr>\n",
       "    <tr>\n",
       "      <th>35</th>\n",
       "      <td>164</td>\n",
       "      <td>0.0000</td>\n",
       "      <td>0.000000</td>\n",
       "      <td>0.000000</td>\n",
       "      <td>0</td>\n",
       "      <td>0</td>\n",
       "      <td>4131421</td>\n",
       "    </tr>\n",
       "    <tr>\n",
       "      <th>36</th>\n",
       "      <td>69</td>\n",
       "      <td>0.0000</td>\n",
       "      <td>0.000000</td>\n",
       "      <td>0.000000</td>\n",
       "      <td>0</td>\n",
       "      <td>0</td>\n",
       "      <td>7076874</td>\n",
       "    </tr>\n",
       "    <tr>\n",
       "      <th>37</th>\n",
       "      <td>83</td>\n",
       "      <td>0.0000</td>\n",
       "      <td>0.000000</td>\n",
       "      <td>0.000000</td>\n",
       "      <td>0</td>\n",
       "      <td>0</td>\n",
       "      <td>7014629</td>\n",
       "    </tr>\n",
       "    <tr>\n",
       "      <th>39</th>\n",
       "      <td>40</td>\n",
       "      <td>0.0000</td>\n",
       "      <td>0.000000</td>\n",
       "      <td>0.000000</td>\n",
       "      <td>0</td>\n",
       "      <td>0</td>\n",
       "      <td>6621486</td>\n",
       "    </tr>\n",
       "    <tr>\n",
       "      <th>43</th>\n",
       "      <td>56</td>\n",
       "      <td>0.0000</td>\n",
       "      <td>0.000000</td>\n",
       "      <td>0.000000</td>\n",
       "      <td>0</td>\n",
       "      <td>0</td>\n",
       "      <td>5589536</td>\n",
       "    </tr>\n",
       "    <tr>\n",
       "      <th>46</th>\n",
       "      <td>128</td>\n",
       "      <td>0.0000</td>\n",
       "      <td>0.000000</td>\n",
       "      <td>0.000000</td>\n",
       "      <td>0</td>\n",
       "      <td>0</td>\n",
       "      <td>6039080</td>\n",
       "    </tr>\n",
       "    <tr>\n",
       "      <th>49</th>\n",
       "      <td>104</td>\n",
       "      <td>0.0000</td>\n",
       "      <td>0.000000</td>\n",
       "      <td>0.000000</td>\n",
       "      <td>0</td>\n",
       "      <td>0</td>\n",
       "      <td>7259575</td>\n",
       "    </tr>\n",
       "    <tr>\n",
       "      <th>56</th>\n",
       "      <td>87</td>\n",
       "      <td>0.0000</td>\n",
       "      <td>0.000000</td>\n",
       "      <td>0.000000</td>\n",
       "      <td>0</td>\n",
       "      <td>0</td>\n",
       "      <td>5079684</td>\n",
       "    </tr>\n",
       "    <tr>\n",
       "      <th>59</th>\n",
       "      <td>159</td>\n",
       "      <td>0.3039</td>\n",
       "      <td>0.000000</td>\n",
       "      <td>-0.303900</td>\n",
       "      <td>1</td>\n",
       "      <td>0</td>\n",
       "      <td>10806945</td>\n",
       "    </tr>\n",
       "    <tr>\n",
       "      <th>60</th>\n",
       "      <td>102</td>\n",
       "      <td>0.0000</td>\n",
       "      <td>0.000000</td>\n",
       "      <td>0.000000</td>\n",
       "      <td>0</td>\n",
       "      <td>0</td>\n",
       "      <td>4271379</td>\n",
       "    </tr>\n",
       "    <tr>\n",
       "      <th>63</th>\n",
       "      <td>166</td>\n",
       "      <td>0.0000</td>\n",
       "      <td>0.000000</td>\n",
       "      <td>0.000000</td>\n",
       "      <td>0</td>\n",
       "      <td>0</td>\n",
       "      <td>5064646</td>\n",
       "    </tr>\n",
       "    <tr>\n",
       "      <th>64</th>\n",
       "      <td>42</td>\n",
       "      <td>0.3535</td>\n",
       "      <td>0.000000</td>\n",
       "      <td>-0.353500</td>\n",
       "      <td>1</td>\n",
       "      <td>0</td>\n",
       "      <td>4460517</td>\n",
       "    </tr>\n",
       "    <tr>\n",
       "      <th>67</th>\n",
       "      <td>93</td>\n",
       "      <td>0.0000</td>\n",
       "      <td>0.000000</td>\n",
       "      <td>0.000000</td>\n",
       "      <td>0</td>\n",
       "      <td>0</td>\n",
       "      <td>6318564</td>\n",
       "    </tr>\n",
       "    <tr>\n",
       "      <th>69</th>\n",
       "      <td>68</td>\n",
       "      <td>0.0000</td>\n",
       "      <td>0.000000</td>\n",
       "      <td>0.000000</td>\n",
       "      <td>0</td>\n",
       "      <td>0</td>\n",
       "      <td>10121584</td>\n",
       "    </tr>\n",
       "    <tr>\n",
       "      <th>75</th>\n",
       "      <td>154</td>\n",
       "      <td>0.0000</td>\n",
       "      <td>0.000000</td>\n",
       "      <td>0.000000</td>\n",
       "      <td>0</td>\n",
       "      <td>0</td>\n",
       "      <td>4414008</td>\n",
       "    </tr>\n",
       "    <tr>\n",
       "      <th>85</th>\n",
       "      <td>75</td>\n",
       "      <td>0.0000</td>\n",
       "      <td>0.000000</td>\n",
       "      <td>0.000000</td>\n",
       "      <td>0</td>\n",
       "      <td>0</td>\n",
       "      <td>4541514</td>\n",
       "    </tr>\n",
       "    <tr>\n",
       "      <th>89</th>\n",
       "      <td>62</td>\n",
       "      <td>0.0000</td>\n",
       "      <td>0.000000</td>\n",
       "      <td>0.000000</td>\n",
       "      <td>0</td>\n",
       "      <td>0</td>\n",
       "      <td>4629098</td>\n",
       "    </tr>\n",
       "    <tr>\n",
       "      <th>93</th>\n",
       "      <td>30</td>\n",
       "      <td>0.0000</td>\n",
       "      <td>0.000000</td>\n",
       "      <td>0.000000</td>\n",
       "      <td>0</td>\n",
       "      <td>0</td>\n",
       "      <td>4746596</td>\n",
       "    </tr>\n",
       "    <tr>\n",
       "      <th>98</th>\n",
       "      <td>80</td>\n",
       "      <td>0.0028</td>\n",
       "      <td>0.000000</td>\n",
       "      <td>-0.002800</td>\n",
       "      <td>0</td>\n",
       "      <td>0</td>\n",
       "      <td>4819949</td>\n",
       "    </tr>\n",
       "    <tr>\n",
       "      <th>102</th>\n",
       "      <td>73</td>\n",
       "      <td>0.0011</td>\n",
       "      <td>0.000000</td>\n",
       "      <td>-0.001100</td>\n",
       "      <td>0</td>\n",
       "      <td>0</td>\n",
       "      <td>4771532</td>\n",
       "    </tr>\n",
       "    <tr>\n",
       "      <th>108</th>\n",
       "      <td>39</td>\n",
       "      <td>0.0118</td>\n",
       "      <td>0.000000</td>\n",
       "      <td>-0.011800</td>\n",
       "      <td>0</td>\n",
       "      <td>0</td>\n",
       "      <td>4753994</td>\n",
       "    </tr>\n",
       "    <tr>\n",
       "      <th>112</th>\n",
       "      <td>129</td>\n",
       "      <td>0.4643</td>\n",
       "      <td>0.000000</td>\n",
       "      <td>-0.464300</td>\n",
       "      <td>1</td>\n",
       "      <td>0</td>\n",
       "      <td>10256985</td>\n",
       "    </tr>\n",
       "    <tr>\n",
       "      <th>114</th>\n",
       "      <td>81</td>\n",
       "      <td>0.0000</td>\n",
       "      <td>0.000000</td>\n",
       "      <td>0.000000</td>\n",
       "      <td>0</td>\n",
       "      <td>0</td>\n",
       "      <td>5261907</td>\n",
       "    </tr>\n",
       "    <tr>\n",
       "      <th>121</th>\n",
       "      <td>38</td>\n",
       "      <td>0.0000</td>\n",
       "      <td>0.000000</td>\n",
       "      <td>0.000000</td>\n",
       "      <td>0</td>\n",
       "      <td>0</td>\n",
       "      <td>12269782</td>\n",
       "    </tr>\n",
       "    <tr>\n",
       "      <th>127</th>\n",
       "      <td>31</td>\n",
       "      <td>0.0000</td>\n",
       "      <td>0.000000</td>\n",
       "      <td>0.000000</td>\n",
       "      <td>0</td>\n",
       "      <td>0</td>\n",
       "      <td>4334458</td>\n",
       "    </tr>\n",
       "    <tr>\n",
       "      <th>130</th>\n",
       "      <td>5</td>\n",
       "      <td>0.0000</td>\n",
       "      <td>0.000000</td>\n",
       "      <td>0.000000</td>\n",
       "      <td>0</td>\n",
       "      <td>0</td>\n",
       "      <td>7573978</td>\n",
       "    </tr>\n",
       "  </tbody>\n",
       "</table>\n",
       "</div>"
      ],
      "text/plain": [
       "     bin    cont  est_cont     error  is_contaminated  is_predicted      size\n",
       "0     95  0.0000  0.000000  0.000000                0             0   9688324\n",
       "3     65  0.0000  0.000000  0.000000                0             0   4021780\n",
       "4     60  0.0000  0.280255  0.280255                0             1   7051824\n",
       "6    116  0.3124  0.000000 -0.312400                1             0   4581231\n",
       "19    29  0.0000  0.000000  0.000000                0             0   6638346\n",
       "34    49  0.0617  0.000000 -0.061700                1             0   5090393\n",
       "35   164  0.0000  0.000000  0.000000                0             0   4131421\n",
       "36    69  0.0000  0.000000  0.000000                0             0   7076874\n",
       "37    83  0.0000  0.000000  0.000000                0             0   7014629\n",
       "39    40  0.0000  0.000000  0.000000                0             0   6621486\n",
       "43    56  0.0000  0.000000  0.000000                0             0   5589536\n",
       "46   128  0.0000  0.000000  0.000000                0             0   6039080\n",
       "49   104  0.0000  0.000000  0.000000                0             0   7259575\n",
       "56    87  0.0000  0.000000  0.000000                0             0   5079684\n",
       "59   159  0.3039  0.000000 -0.303900                1             0  10806945\n",
       "60   102  0.0000  0.000000  0.000000                0             0   4271379\n",
       "63   166  0.0000  0.000000  0.000000                0             0   5064646\n",
       "64    42  0.3535  0.000000 -0.353500                1             0   4460517\n",
       "67    93  0.0000  0.000000  0.000000                0             0   6318564\n",
       "69    68  0.0000  0.000000  0.000000                0             0  10121584\n",
       "75   154  0.0000  0.000000  0.000000                0             0   4414008\n",
       "85    75  0.0000  0.000000  0.000000                0             0   4541514\n",
       "89    62  0.0000  0.000000  0.000000                0             0   4629098\n",
       "93    30  0.0000  0.000000  0.000000                0             0   4746596\n",
       "98    80  0.0028  0.000000 -0.002800                0             0   4819949\n",
       "102   73  0.0011  0.000000 -0.001100                0             0   4771532\n",
       "108   39  0.0118  0.000000 -0.011800                0             0   4753994\n",
       "112  129  0.4643  0.000000 -0.464300                1             0  10256985\n",
       "114   81  0.0000  0.000000  0.000000                0             0   5261907\n",
       "121   38  0.0000  0.000000  0.000000                0             0  12269782\n",
       "127   31  0.0000  0.000000  0.000000                0             0   4334458\n",
       "130    5  0.0000  0.000000  0.000000                0             0   7573978"
      ]
     },
     "execution_count": 64,
     "metadata": {},
     "output_type": "execute_result"
    }
   ],
   "source": [
    "size = pd.read_csv(\"./size_med.csv\", sep='\\t', names=['bin','size'])\n",
    "data = pd.merge(data, size, on='bin')\n",
    "data.loc[data['size'] > 4000000]"
   ]
  },
  {
   "cell_type": "code",
   "execution_count": 65,
   "metadata": {},
   "outputs": [
    {
     "data": {
      "text/plain": [
       "12269782"
      ]
     },
     "execution_count": 65,
     "metadata": {},
     "output_type": "execute_result"
    },
    {
     "data": {
      "image/png": "[encoded data removed]",
      "text/plain": [
       "<Figure size 432x288 with 1 Axes>"
      ]
     },
     "metadata": {
      "needs_background": "light"
     },
     "output_type": "display_data"
    }
   ],
   "source": [
    "sns.distplot(data['size'],kde=False)\n",
    "data['size'].max()"
   ]
  },
  {
   "cell_type": "code",
   "execution_count": 66,
   "metadata": {
    "scrolled": true
   },
   "outputs": [
    {
     "data": {
      "text/plain": [
       "<matplotlib.axes._subplots.AxesSubplot at 0x7f16901462e8>"
      ]
     },
     "execution_count": 66,
     "metadata": {},
     "output_type": "execute_result"
    },
    {
     "data": {
      "image/png": "[encoded data removed]",
      "text/plain": [
       "<Figure size 432x288 with 1 Axes>"
      ]
     },
     "metadata": {
      "needs_background": "light"
     },
     "output_type": "display_data"
    }
   ],
   "source": [
    "sns.scatterplot('cont', 'est_cont', data=data, hue='size', palette='jet',size='size')"
   ]
  },
  {
   "cell_type": "code",
   "execution_count": null,
   "metadata": {},
   "outputs": [],
   "source": []
  },
  {
   "cell_type": "code",
   "execution_count": 67,
   "metadata": {},
   "outputs": [
    {
     "name": "stdout",
     "output_type": "stream",
     "text": [
      "Small\n",
      "accuracy:  0.7142857142857143\n",
      "sensitivity:  0.25\n",
      "specificity:  0.7555555555555555\n",
      "Medium\n",
      "accuracy:  0.7710843373493976\n",
      "sensitivity:  0.25\n",
      "specificity:  0.8266666666666667\n",
      "Big\n",
      "accuracy:  0.7894736842105263\n",
      "sensitivity:  0.0\n",
      "specificity:  0.8333333333333334\n"
     ]
    }
   ],
   "source": [
    "small = data.loc[data['size'] < 2000000]\n",
    "tn, fp, fn, tp = confusion_matrix(small['is_predicted'], small['is_contaminated']).ravel()\n",
    "\n",
    "acc = (tp+tn)/(tn+fp+fn+tp)\n",
    "sens = tp/(tp+fn)\n",
    "spec = tn/(tn+fp)\n",
    "print(\"Small\")\n",
    "print(\"accuracy: \", acc)\n",
    "print(\"sensitivity: \", sens)\n",
    "print(\"specificity: \", spec)\n",
    "\n",
    "med = data.loc[data['size'].all() < 5000000 and data['size'] > 2000000]\n",
    "tn, fp, fn, tp = confusion_matrix(med['is_predicted'], med['is_contaminated']).ravel()\n",
    "\n",
    "acc = (tp+tn)/(tn+fp+fn+tp)\n",
    "sens = tp/(tp+fn)\n",
    "spec = tn/(tn+fp)\n",
    "print(\"Medium\")\n",
    "print(\"accuracy: \", acc)\n",
    "print(\"sensitivity: \", sens)\n",
    "print(\"specificity: \", spec)\n",
    "\n",
    "big = data.loc[data['size'] > 5000000]\n",
    "tn, fp, fn, tp = confusion_matrix(big['is_predicted'], big['is_contaminated']).ravel()\n",
    "\n",
    "acc = (tp+tn)/(tn+fp+fn+tp)\n",
    "sens = tp/(tp+fn)\n",
    "spec = tn/(tn+fp)\n",
    "print(\"Big\")\n",
    "print(\"accuracy: \", acc)\n",
    "print(\"sensitivity: \", sens)\n",
    "print(\"specificity: \", spec)"
   ]
  },
  {
   "cell_type": "code",
   "execution_count": null,
   "metadata": {},
   "outputs": [],
   "source": []
  },
  {
   "cell_type": "code",
   "execution_count": null,
   "metadata": {},
   "outputs": [],
   "source": []
  },
  {
   "cell_type": "code",
   "execution_count": null,
   "metadata": {},
   "outputs": [],
   "source": []
  }
 ],
 "metadata": {
  "kernelspec": {
   "display_name": "Python 3",
   "language": "python",
   "name": "python3"
  },
  "language_info": {
   "codemirror_mode": {
    "name": "ipython",
    "version": 3
   },
   "file_extension": ".py",
   "mimetype": "text/x-python",
   "name": "python",
   "nbconvert_exporter": "python",
   "pygments_lexer": "ipython3",
   "version": "3.7.3"
  }
 },
 "nbformat": 4,
 "nbformat_minor": 2
}
