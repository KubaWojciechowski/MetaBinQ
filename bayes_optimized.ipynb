{
 "cells": [
  {
   "cell_type": "code",
   "execution_count": 33,
   "metadata": {},
   "outputs": [
    {
     "name": "stdout",
     "output_type": "stream",
     "text": [
      "Using matplotlib backend: Qt5Agg\n"
     ]
    }
   ],
   "source": [
    "import numpy as np\n",
    "import matplotlib.pyplot as plt\n",
    "import pandas as pd\n",
    "import seaborn as sns\n",
    "from math import gamma, factorial\n",
    "from scipy.special import loggamma, logsumexp\n",
    "from scipy.spatial.distance import pdist\n",
    "sns.set()\n",
    "from time import time\n",
    "%matplotlib"
   ]
  },
  {
   "cell_type": "code",
   "execution_count": 34,
   "metadata": {},
   "outputs": [],
   "source": [
    "#def stirling(x):\n",
    "   # return (x-0.5)*np.log(x+1)-x+1.9189385332+(1/(12*(x+1)+0.5))\n",
    "\n",
    "def dirichlet_multinomial_old(x,alpha):\n",
    "    '''\n",
    "    where x is the count vector of tetranuclotides (256,1)\n",
    "    alpha is the hyper parameter (256,1)\n",
    "    alpha_0 is the strength of the pseudo-counts (sum of alphas)\n",
    "    \n",
    "    calculations are in log space\n",
    "    formula: https://en.wikipedia.org/wiki/Dirichlet-multinomial_distribution\n",
    "    '''\n",
    "\n",
    "    n = np.sum(x)\n",
    "    alpha_0 = np.sum(alpha)\n",
    "    \n",
    "    log_probability = loggamma(n+1)+loggamma(alpha_0)-loggamma(n+alpha_0)\n",
    "\n",
    "    for k in range(len(x)):\n",
    "        log_probability += loggamma(x[k]+alpha[k])-loggamma(x[k]+1)-loggamma(alpha[k])\n",
    "        \n",
    "    return log_probability\n",
    "\n",
    "\n",
    "def bayes_null_old(x,y,alpha):\n",
    "    return dirichlet_multinomial_old(x,alpha)+dirichlet_multinomial_old(y,alpha)   \n",
    "\n",
    "\n",
    "def bayes_model_old(x,y,alpha):\n",
    "    dirich = dirichlet_multinomial_old(x+y,alpha)\n",
    "    Lx = np.sum(x)\n",
    "    Ly = np.sum(y)\n",
    "    correction = loggamma(Lx+1) + loggamma(Ly+1) - loggamma(Lx+Ly+1)\n",
    "    for k in range(len(x)):\n",
    "        correction += loggamma(x[k]+y[k]+1) - loggamma(x[k]+1) -loggamma(y[k]+1)\n",
    "    return correction + dirich\n",
    "\n",
    "def b_metric_old(x,y, alpha):\n",
    "    BN = bayes_null_old(x, y, alpha)\n",
    "    BM = bayes_model_old(x, y, alpha)    \n",
    "    return BM-BN\n",
    "\n",
    "\n",
    "def dirichlet_multinomial(x,alpha):\n",
    "    '''\n",
    "    where x is the count vector of tetranuclotides (256,1)\n",
    "    alpha is the hyper parameter (256,1)\n",
    "    alpha_0 is the strength of the pseudo-counts (sum of alphas)\n",
    "    \n",
    "    calculations are in log space\n",
    "    formula: https://en.wikipedia.org/wiki/Dirichlet-multinomial_distribution\n",
    "    '''\n",
    "\n",
    "    n = np.sum(x)\n",
    "    alpha_0 = np.sum(alpha)\n",
    "    \n",
    "    log_probability = loggamma(n+1)+loggamma(alpha_0)-loggamma(n+alpha_0)\n",
    "\n",
    "    log_probability += np.sum(loggamma(x+alpha)-loggamma(x+1)-loggamma(alpha))\n",
    "        \n",
    "    return log_probability\n",
    "\n",
    "\n",
    "def bayes_null(x,y,alpha):\n",
    "    return dirichlet_multinomial(x,alpha)+dirichlet_multinomial(y,alpha)    \n",
    "\n",
    "\n",
    "def bayes_model(x,y,alpha):\n",
    "    dirich = dirichlet_multinomial(x+y,alpha)\n",
    "    Lx = np.sum(x)\n",
    "    Ly = np.sum(y)\n",
    "    correction = loggamma(Lx+1) + loggamma(Ly+1) - loggamma(Lx+Ly+1)\n",
    "    correction += np.sum(loggamma(x+y+1) - loggamma(x+1) -loggamma(y+1))\n",
    "    return correction + dirich\n",
    "\n",
    "\n",
    "def b_metric(x,y, alpha):\n",
    "    BN = bayes_null(x, y, alpha)\n",
    "    BM = bayes_model(x, y, alpha)    \n",
    "    return BM-BN\n"
   ]
  },
  {
   "cell_type": "code",
   "execution_count": 35,
   "metadata": {},
   "outputs": [],
   "source": [
    "#Mean TNF in 10 ref genomes as alpha\n",
    "all_genomes = pd.read_csv('./genomes_tn_conts.csv')\n",
    "alpha = all_genomes.mean().values"
   ]
  },
  {
   "cell_type": "code",
   "execution_count": 36,
   "metadata": {},
   "outputs": [],
   "source": [
    "data = pd.read_csv('./v_cholerae_conts.csv')"
   ]
  },
  {
   "cell_type": "code",
   "execution_count": 37,
   "metadata": {},
   "outputs": [],
   "source": [
    "group = data.loc[data['contamination'] == 0].values\n",
    "labels = group[:,-1]\n",
    "group = group[:,:-1]"
   ]
  },
  {
   "cell_type": "markdown",
   "metadata": {},
   "source": [
    "# Speed benchmark"
   ]
  },
  {
   "cell_type": "code",
   "execution_count": 38,
   "metadata": {},
   "outputs": [],
   "source": [
    "def timing(fun):\n",
    "    t1 = time()\n",
    "    fun()\n",
    "    t2 = time()\n",
    "    print('time of execution: ', t2 - t1)\n"
   ]
  },
  {
   "cell_type": "code",
   "execution_count": 39,
   "metadata": {},
   "outputs": [],
   "source": [
    "\n",
    "def new():\n",
    "    x = group[1]\n",
    "    n = np.sum(x)\n",
    "    alpha_0 = np.sum(alpha)\n",
    "\n",
    "    log_probability = loggamma(n+1)+loggamma(alpha_0)-loggamma(n+alpha_0)\n",
    "\n",
    "    log_probability += np.sum(loggamma(x+alpha)-loggamma(x+1)-loggamma(alpha))\n",
    "\n",
    "    log_probability\n"
   ]
  },
  {
   "cell_type": "code",
   "execution_count": 40,
   "metadata": {},
   "outputs": [],
   "source": [
    "def old():\n",
    "    x =group[1]\n",
    "    n = np.sum(x)\n",
    "    alpha_0 = np.sum(alpha)\n",
    "\n",
    "    log_probability = loggamma(n+1)+loggamma(alpha_0)-loggamma(n+alpha_0)\n",
    "\n",
    "    for k in range(len(x)):\n",
    "        log_probability += loggamma(x[k]+alpha[k])-loggamma(x[k]+1)-loggamma(alpha[k])\n",
    "\n",
    "    log_probability\n"
   ]
  },
  {
   "cell_type": "code",
   "execution_count": 41,
   "metadata": {},
   "outputs": [
    {
     "name": "stdout",
     "output_type": "stream",
     "text": [
      "time of execution:  0.0019412040710449219\n"
     ]
    }
   ],
   "source": [
    "timing(old)"
   ]
  },
  {
   "cell_type": "code",
   "execution_count": 42,
   "metadata": {},
   "outputs": [
    {
     "name": "stdout",
     "output_type": "stream",
     "text": [
      "time of execution:  0.00015664100646972656\n"
     ]
    }
   ],
   "source": [
    "timing(new)"
   ]
  },
  {
   "cell_type": "code",
   "execution_count": 43,
   "metadata": {},
   "outputs": [],
   "source": [
    "def test_old():\n",
    "    group = data.loc[data['contamination'] == 0].values\n",
    "    labels = group[:100,-1]\n",
    "    group = group[:100,:-1]\n",
    "\n",
    "\n",
    "    d = b_metric(group[0],group[1], alpha)\n",
    "    distances_old = pdist(group, lambda u, v: b_metric_old(u,v, alpha))\n",
    "    \n",
    "def test_new():\n",
    "    group = data.loc[data['contamination'] == 0].values\n",
    "    labels = group[:100,-1]\n",
    "    group = group[:100,:-1]\n",
    "\n",
    "\n",
    "    d = b_metric(group[0],group[1], alpha)\n",
    "    distances = pdist(group, lambda u, v: b_metric(u,v, alpha))"
   ]
  },
  {
   "cell_type": "code",
   "execution_count": 44,
   "metadata": {},
   "outputs": [
    {
     "name": "stdout",
     "output_type": "stream",
     "text": [
      "time of execution:  41.28519034385681\n"
     ]
    }
   ],
   "source": [
    "timing(test_old)"
   ]
  },
  {
   "cell_type": "code",
   "execution_count": 45,
   "metadata": {},
   "outputs": [
    {
     "name": "stdout",
     "output_type": "stream",
     "text": [
      "time of execution:  1.4435486793518066\n"
     ]
    }
   ],
   "source": [
    "timing(test_new)"
   ]
  },
  {
   "cell_type": "code",
   "execution_count": null,
   "metadata": {},
   "outputs": [],
   "source": []
  }
 ],
 "metadata": {
  "kernelspec": {
   "display_name": "Python 3",
   "language": "python",
   "name": "python3"
  },
  "language_info": {
   "codemirror_mode": {
    "name": "ipython",
    "version": 3
   },
   "file_extension": ".py",
   "mimetype": "text/x-python",
   "name": "python",
   "nbconvert_exporter": "python",
   "pygments_lexer": "ipython3",
   "version": "3.7.3"
  }
 },
 "nbformat": 4,
 "nbformat_minor": 2
}
