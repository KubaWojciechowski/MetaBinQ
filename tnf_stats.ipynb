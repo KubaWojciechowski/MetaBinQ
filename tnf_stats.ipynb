{
 "cells": [
  {
   "cell_type": "code",
   "execution_count": 38,
   "metadata": {},
   "outputs": [],
   "source": [
    "import numpy as np\n",
    "import matplotlib.pyplot as plt\n",
    "from Bio import SeqIO"
   ]
  },
  {
   "cell_type": "markdown",
   "metadata": {},
   "source": [
    "### Generate lists of di, tri, and tetranucleotides"
   ]
  },
  {
   "cell_type": "code",
   "execution_count": 39,
   "metadata": {},
   "outputs": [],
   "source": [
    "nucl = [\"A\",\"T\",\"G\",\"C\"]\n",
    "di_nucl = {i+j:0 for i in nucl for j in nucl}\n",
    "tri_nucl = {i+j:0 for i in di_nucl for j in nucl}\n",
    "tetra_nucl = [i+j for i in tri_nucl for j in nucl]"
   ]
  },
  {
   "cell_type": "code",
   "execution_count": 80,
   "metadata": {},
   "outputs": [],
   "source": [
    "def count_occurrences(subsequence, sequence):\n",
    "    \"\"\"\n",
    "    Count occurrences of substring in a string\n",
    "    (including overlaping substrings)\n",
    "    \n",
    "    Inputs:\n",
    "    sequence - sequence\n",
    "    subsequence - subsequence to be found in sequence\n",
    "    \n",
    "    Output: number of occurrences of subsequence in sequence\n",
    "    \"\"\"\n",
    "    number_of_occurrences = 0\n",
    "    for i in range(len(sequence)):\n",
    "        if sequence[i:i+len(subsequence)] == subsequence:\n",
    "            number_of_occurrences += 1\n",
    "            \n",
    "    return number_of_occurrences\n",
    "    \n",
    "\n",
    "def exp_tnf(tetra_nucl, tri_nucl, di_nucl):\n",
    "    \"\"\"Docstring goes here\"\"\"\n",
    "    expected_tnf = np.zeros(len(tetra_nucl))\n",
    "    for i in range(len(tetra_nucl)):\n",
    "        tn = tetra_nucl[i]\n",
    "        expected_tnf[i] = (tri_nucl[tn[0:3]]*tri_nucl[tn[1:4]])/di_nucl[tn[1:3]]\n",
    "        \n",
    "    return expected_tnf\n",
    "\n",
    "\n",
    "def app_variance(expected_tnf, tetra_nucl, tri_nucl, di_nucl):\n",
    "    \"\"\"Docstring goes here\"\"\"\n",
    "    app_var = np.zeros(len(tetra_nucl))\n",
    "    for i in range(len(tetra_nucl)):\n",
    "        tn = tetra_nucl[i]\n",
    "        n23 = di_nucl[tn[1:3]]\n",
    "        n123 = tri_nucl[tn[0:3]]\n",
    "        n234 = tri_nucl[tn[1:4]]\n",
    "        app_var[i] = expected_tnf[i] * (((n23-n123)*(n23-n234))/(n23*n23))\n",
    "        \n",
    "    return app_var"
   ]
  },
  {
   "cell_type": "code",
   "execution_count": 43,
   "metadata": {},
   "outputs": [],
   "source": [
    "contigs = SeqIO.parse(\"./test/test.fasta\", 'fasta')\n",
    "\n",
    "for record in contigs:\n",
    "    \n",
    "    for di in di_nucl:\n",
    "        di_nucl[di] = count_occurrences(di,record.seq)\n",
    "        \n",
    "    for tri in tri_nucl:\n",
    "        tri_nucl[tri] = count_occurrences(tri,record.seq)\n",
    "\n",
    "    tetra_freq = np.zeros(len(tetra_nucl))\n",
    "    for i in range(len(tetra_nucl)):\n",
    "        tetra_freq[i] = count_occurrences(tetra_nucl[i],record.seq)\n",
    "        \n"
   ]
  },
  {
   "cell_type": "code",
   "execution_count": 70,
   "metadata": {},
   "outputs": [],
   "source": [
    "expected_tnf = exp_tnf(tetra_nucl, tri_nucl, di_nucl)"
   ]
  },
  {
   "cell_type": "code",
   "execution_count": 81,
   "metadata": {},
   "outputs": [],
   "source": [
    "app_var = app_variance(expected_tnf, tetra_nucl, tri_nucl, di_nucl)"
   ]
  },
  {
   "cell_type": "code",
   "execution_count": 82,
   "metadata": {},
   "outputs": [
    {
     "data": {
      "text/plain": [
       "array([12.76938805, 11.85026571,  9.83674653, 11.12209282,  9.95094866,\n",
       "       12.63966295,  8.18861607, 10.26496429,  7.08706189,  7.41860377,\n",
       "        6.07826779,  7.52345034,  9.04910036, 10.83510701,  7.63111932,\n",
       "        8.71895974, 10.66829031, 10.3873731 ,  6.16967693,  9.14687423,\n",
       "       13.9791508 , 17.49015823,  9.53494263, 14.32165131,  6.77163064,\n",
       "        8.03783703,  4.91041018,  7.33370275, 11.09167698,  9.55671564,\n",
       "        6.9715176 , 10.65580057,  5.92729332,  6.48950271,  4.28082295,\n",
       "        5.23390173,  6.1062125 ,  8.06158193,  5.00271975,  6.01411773,\n",
       "        4.35077843,  5.42969487,  3.54637919,  4.45292436,  6.00883083,\n",
       "        7.89974476,  5.2451925 ,  5.00717537,  9.49250947,  9.07577532,\n",
       "        5.6481369 ,  8.18188056,  8.85191511, 13.42710568,  6.55156156,\n",
       "        9.55709912,  5.09029648,  7.3933557 ,  5.65802735,  6.54497295,\n",
       "        8.4515491 ,  7.31754378,  7.31754378,  7.51011072, 12.6838883 ,\n",
       "       11.77092011,  9.77088281, 11.04762283, 10.33610149, 13.12888284,\n",
       "        8.50555758, 10.66227114,  5.68258548,  5.94842414,  4.87370885,\n",
       "        6.03249278,  8.82069187, 10.56161789,  7.43850211,  8.49888433,\n",
       "       14.14154175, 13.76916695,  8.17832487, 12.12480163, 18.9838702 ,\n",
       "       23.75186437, 12.9485772 , 19.44899039,  7.90965432,  9.38865627,\n",
       "        5.7356417 ,  8.56618689, 14.66162515, 12.63262378,  9.21535832,\n",
       "       14.0854583 ,  6.34225739,  6.94382652,  4.58051923,  5.60032213,\n",
       "        7.57156559,  9.99617951,  6.2032595 ,  7.45737015,  4.08709489,\n",
       "        5.10062245,  3.33144712,  4.18305016,  6.56675672,  8.63324389,\n",
       "        5.73221382,  5.47209656, 12.38936886, 11.84545862,  7.37179685,\n",
       "       10.67877114,  8.34523983, 12.65855081,  6.17655635,  9.01005978,\n",
       "        5.16399437,  7.50039755,  5.73994492,  6.63973182, 10.76123171,\n",
       "        9.3173196 ,  9.3173196 ,  9.56251222,  7.3615287 ,  6.83165636,\n",
       "        5.67086626,  6.41186603,  7.0893586 ,  9.00488047,  5.83381924,\n",
       "        7.31307289,  4.11409948,  4.30656236,  3.52848596,  4.36742668,\n",
       "        5.36601341,  6.42509501,  4.52516681,  5.17024378,  8.37519406,\n",
       "        8.15465862,  4.84353539,  7.18079885, 11.60616702, 14.52117519,\n",
       "        7.91637048, 11.89052751,  5.36663907,  6.37013042,  3.89158838,\n",
       "        5.81209133,  8.25351258,  7.11132076,  5.18762927,  7.92916925,\n",
       "        4.6583064 ,  5.10015118,  3.3643324 ,  4.1133645 ,  5.90106307,\n",
       "        7.79073827,  4.83464419,  5.81206239,  3.25502682,  4.06221616,\n",
       "        2.65321702,  3.33144712,  4.47168806,  5.87887982,  3.90339907,\n",
       "        3.72627004,  7.38818708,  7.06383556,  4.39604429,  6.36810155,\n",
       "        8.10984568, 12.3014911 ,  6.00233424,  8.75591305,  4.16650193,\n",
       "        6.05159855,  4.63120017,  5.35718156,  5.66029675,  4.90081389,\n",
       "        4.90081389,  5.02978268, 12.04549014, 11.17847294,  9.27910037,\n",
       "       10.49158024,  9.61990821, 12.21917643,  7.91620353,  9.92347741,\n",
       "        5.48623598,  5.74288916,  4.70530835,  5.82405299,  8.40828764,\n",
       "       10.0678181 ,  7.09072104,  8.10152595,  9.32713381,  9.08153191,\n",
       "        5.39406041,  7.99698147, 15.72572581, 19.67540352, 10.72625194,\n",
       "       16.11101882,  5.47966197,  6.50428712,  3.97354631,  5.93449557,\n",
       "       10.14265649,  8.73902874,  6.37502411,  9.74407432,  5.12413704,\n",
       "        5.6101663 ,  3.70076564,  4.52470096,  7.34917671,  9.70257588,\n",
       "        6.02105994,  7.23833537,  4.73165465,  5.90502169,  3.85683663,\n",
       "        4.84274266,  6.17858935,  8.12292446,  5.3933771 ,  5.14863562,\n",
       "       10.38069749,  9.92497067,  6.17661755,  8.94743663,  6.76864642,\n",
       "       10.26708115,  5.0096734 ,  7.30786772,  5.57018975,  8.0903724 ,\n",
       "        6.19144407,  7.16200744,  8.4515491 ,  7.31754378,  7.31754378,\n",
       "        7.51011072])"
      ]
     },
     "execution_count": 82,
     "metadata": {},
     "output_type": "execute_result"
    }
   ],
   "source": [
    "app_var"
   ]
  },
  {
   "cell_type": "code",
   "execution_count": null,
   "metadata": {},
   "outputs": [],
   "source": []
  },
  {
   "cell_type": "code",
   "execution_count": null,
   "metadata": {},
   "outputs": [],
   "source": []
  }
 ],
 "metadata": {
  "kernelspec": {
   "display_name": "Python 3",
   "language": "python",
   "name": "python3"
  },
  "language_info": {
   "codemirror_mode": {
    "name": "ipython",
    "version": 3
   },
   "file_extension": ".py",
   "mimetype": "text/x-python",
   "name": "python",
   "nbconvert_exporter": "python",
   "pygments_lexer": "ipython3",
   "version": "3.7.3"
  }
 },
 "nbformat": 4,
 "nbformat_minor": 2
}
