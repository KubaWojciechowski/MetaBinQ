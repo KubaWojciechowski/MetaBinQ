{
 "cells": [
  {
   "cell_type": "code",
   "execution_count": 31,
   "metadata": {},
   "outputs": [],
   "source": [
    "import numpy as np\n",
    "import matplotlib.pyplot as plt\n",
    "import pandas as pd\n",
    "import seaborn as sns\n",
    "from scipy.spatial.distance import pdist\n",
    "sns.set()"
   ]
  },
  {
   "cell_type": "code",
   "execution_count": 4,
   "metadata": {},
   "outputs": [
    {
     "data": {
      "text/html": [
       "<div>\n",
       "<style scoped>\n",
       "    .dataframe tbody tr th:only-of-type {\n",
       "        vertical-align: middle;\n",
       "    }\n",
       "\n",
       "    .dataframe tbody tr th {\n",
       "        vertical-align: top;\n",
       "    }\n",
       "\n",
       "    .dataframe thead th {\n",
       "        text-align: right;\n",
       "    }\n",
       "</style>\n",
       "<table border=\"1\" class=\"dataframe\">\n",
       "  <thead>\n",
       "    <tr style=\"text-align: right;\">\n",
       "      <th></th>\n",
       "      <th>0</th>\n",
       "      <th>1</th>\n",
       "      <th>2</th>\n",
       "      <th>3</th>\n",
       "      <th>4</th>\n",
       "      <th>5</th>\n",
       "      <th>6</th>\n",
       "      <th>7</th>\n",
       "      <th>8</th>\n",
       "      <th>9</th>\n",
       "      <th>...</th>\n",
       "      <th>247</th>\n",
       "      <th>248</th>\n",
       "      <th>249</th>\n",
       "      <th>250</th>\n",
       "      <th>251</th>\n",
       "      <th>252</th>\n",
       "      <th>253</th>\n",
       "      <th>254</th>\n",
       "      <th>255</th>\n",
       "      <th>contamination</th>\n",
       "    </tr>\n",
       "  </thead>\n",
       "  <tbody>\n",
       "    <tr>\n",
       "      <th>0</th>\n",
       "      <td>-0.020424</td>\n",
       "      <td>-0.198742</td>\n",
       "      <td>-1.626589</td>\n",
       "      <td>2.039002</td>\n",
       "      <td>2.354300</td>\n",
       "      <td>-2.058422</td>\n",
       "      <td>-1.054614</td>\n",
       "      <td>1.087244</td>\n",
       "      <td>1.522724</td>\n",
       "      <td>1.053259</td>\n",
       "      <td>...</td>\n",
       "      <td>1.826906</td>\n",
       "      <td>5.246693</td>\n",
       "      <td>-1.088214</td>\n",
       "      <td>-6.007191</td>\n",
       "      <td>1.768003</td>\n",
       "      <td>-0.808481</td>\n",
       "      <td>-0.304700</td>\n",
       "      <td>0.632584</td>\n",
       "      <td>0.403270</td>\n",
       "      <td>0.05</td>\n",
       "    </tr>\n",
       "    <tr>\n",
       "      <th>1</th>\n",
       "      <td>-0.700302</td>\n",
       "      <td>-0.666683</td>\n",
       "      <td>1.394996</td>\n",
       "      <td>0.010504</td>\n",
       "      <td>0.835484</td>\n",
       "      <td>-1.707982</td>\n",
       "      <td>-1.104839</td>\n",
       "      <td>2.175531</td>\n",
       "      <td>0.384040</td>\n",
       "      <td>1.576076</td>\n",
       "      <td>...</td>\n",
       "      <td>1.727553</td>\n",
       "      <td>2.829536</td>\n",
       "      <td>-1.321606</td>\n",
       "      <td>-5.757278</td>\n",
       "      <td>3.933029</td>\n",
       "      <td>1.854359</td>\n",
       "      <td>-0.742658</td>\n",
       "      <td>-1.649348</td>\n",
       "      <td>0.860027</td>\n",
       "      <td>0.05</td>\n",
       "    </tr>\n",
       "    <tr>\n",
       "      <th>2</th>\n",
       "      <td>-1.251188</td>\n",
       "      <td>2.225747</td>\n",
       "      <td>0.196036</td>\n",
       "      <td>-1.000864</td>\n",
       "      <td>0.727122</td>\n",
       "      <td>1.715101</td>\n",
       "      <td>-1.987711</td>\n",
       "      <td>-0.405683</td>\n",
       "      <td>1.332441</td>\n",
       "      <td>1.031107</td>\n",
       "      <td>...</td>\n",
       "      <td>1.726421</td>\n",
       "      <td>1.881574</td>\n",
       "      <td>-1.656313</td>\n",
       "      <td>-3.389464</td>\n",
       "      <td>2.811033</td>\n",
       "      <td>-1.378926</td>\n",
       "      <td>0.914189</td>\n",
       "      <td>-0.198327</td>\n",
       "      <td>0.433589</td>\n",
       "      <td>0.05</td>\n",
       "    </tr>\n",
       "    <tr>\n",
       "      <th>3</th>\n",
       "      <td>-0.246440</td>\n",
       "      <td>-0.918297</td>\n",
       "      <td>-0.490803</td>\n",
       "      <td>1.835757</td>\n",
       "      <td>2.741480</td>\n",
       "      <td>-5.290071</td>\n",
       "      <td>-0.416309</td>\n",
       "      <td>3.128198</td>\n",
       "      <td>1.116149</td>\n",
       "      <td>-1.503316</td>\n",
       "      <td>...</td>\n",
       "      <td>-0.105432</td>\n",
       "      <td>-0.287899</td>\n",
       "      <td>1.438515</td>\n",
       "      <td>-4.189111</td>\n",
       "      <td>3.269840</td>\n",
       "      <td>-0.560584</td>\n",
       "      <td>-0.895654</td>\n",
       "      <td>0.709302</td>\n",
       "      <td>0.772866</td>\n",
       "      <td>0.05</td>\n",
       "    </tr>\n",
       "    <tr>\n",
       "      <th>4</th>\n",
       "      <td>-1.864084</td>\n",
       "      <td>0.028447</td>\n",
       "      <td>-1.073394</td>\n",
       "      <td>3.375556</td>\n",
       "      <td>0.356425</td>\n",
       "      <td>-0.508956</td>\n",
       "      <td>-1.053906</td>\n",
       "      <td>1.276836</td>\n",
       "      <td>1.442189</td>\n",
       "      <td>-0.117438</td>\n",
       "      <td>...</td>\n",
       "      <td>1.241675</td>\n",
       "      <td>-0.449919</td>\n",
       "      <td>-0.479647</td>\n",
       "      <td>-2.977094</td>\n",
       "      <td>3.866424</td>\n",
       "      <td>1.907443</td>\n",
       "      <td>-1.321171</td>\n",
       "      <td>-2.025656</td>\n",
       "      <td>1.726274</td>\n",
       "      <td>0.05</td>\n",
       "    </tr>\n",
       "  </tbody>\n",
       "</table>\n",
       "<p>5 rows × 257 columns</p>\n",
       "</div>"
      ],
      "text/plain": [
       "          0         1         2         3         4         5         6  \\\n",
       "0 -0.020424 -0.198742 -1.626589  2.039002  2.354300 -2.058422 -1.054614   \n",
       "1 -0.700302 -0.666683  1.394996  0.010504  0.835484 -1.707982 -1.104839   \n",
       "2 -1.251188  2.225747  0.196036 -1.000864  0.727122  1.715101 -1.987711   \n",
       "3 -0.246440 -0.918297 -0.490803  1.835757  2.741480 -5.290071 -0.416309   \n",
       "4 -1.864084  0.028447 -1.073394  3.375556  0.356425 -0.508956 -1.053906   \n",
       "\n",
       "          7         8         9  ...       247       248       249       250  \\\n",
       "0  1.087244  1.522724  1.053259  ...  1.826906  5.246693 -1.088214 -6.007191   \n",
       "1  2.175531  0.384040  1.576076  ...  1.727553  2.829536 -1.321606 -5.757278   \n",
       "2 -0.405683  1.332441  1.031107  ...  1.726421  1.881574 -1.656313 -3.389464   \n",
       "3  3.128198  1.116149 -1.503316  ... -0.105432 -0.287899  1.438515 -4.189111   \n",
       "4  1.276836  1.442189 -0.117438  ...  1.241675 -0.449919 -0.479647 -2.977094   \n",
       "\n",
       "        251       252       253       254       255  contamination  \n",
       "0  1.768003 -0.808481 -0.304700  0.632584  0.403270           0.05  \n",
       "1  3.933029  1.854359 -0.742658 -1.649348  0.860027           0.05  \n",
       "2  2.811033 -1.378926  0.914189 -0.198327  0.433589           0.05  \n",
       "3  3.269840 -0.560584 -0.895654  0.709302  0.772866           0.05  \n",
       "4  3.866424  1.907443 -1.321171 -2.025656  1.726274           0.05  \n",
       "\n",
       "[5 rows x 257 columns]"
      ]
     },
     "execution_count": 4,
     "metadata": {},
     "output_type": "execute_result"
    }
   ],
   "source": [
    "data = pd.read_csv(\"./contamination/v_cholerae_z.csv\")\n",
    "data.head()"
   ]
  },
  {
   "cell_type": "code",
   "execution_count": 81,
   "metadata": {},
   "outputs": [
    {
     "data": {
      "text/plain": [
       "25.823691586863585"
      ]
     },
     "execution_count": 81,
     "metadata": {},
     "output_type": "execute_result"
    }
   ],
   "source": [
    "for i in data.contamination.unique():\n",
    "    group = data.loc[data['contamination'] == 0.4].values\n",
    "    labels = group[:,-1]\n",
    "    group = group[:,:-1]\n",
    "    \n",
    "np.mean(pdist(group))"
   ]
  },
  {
   "cell_type": "code",
   "execution_count": 60,
   "metadata": {},
   "outputs": [
    {
     "data": {
      "text/plain": [
       "<matplotlib.axes._subplots.AxesSubplot at 0x7f1adb0cea20>"
      ]
     },
     "execution_count": 60,
     "metadata": {},
     "output_type": "execute_result"
    },
    {
     "data": {
      "image/png": "[encoded data removed]",
      "text/plain": [
       "<Figure size 432x288 with 1 Axes>"
      ]
     },
     "metadata": {},
     "output_type": "display_data"
    }
   ],
   "source": []
  },
  {
   "cell_type": "code",
   "execution_count": null,
   "metadata": {},
   "outputs": [],
   "source": []
  },
  {
   "cell_type": "code",
   "execution_count": null,
   "metadata": {},
   "outputs": [],
   "source": []
  }
 ],
 "metadata": {
  "kernelspec": {
   "display_name": "Python 3",
   "language": "python",
   "name": "python3"
  },
  "language_info": {
   "codemirror_mode": {
    "name": "ipython",
    "version": 3
   },
   "file_extension": ".py",
   "mimetype": "text/x-python",
   "name": "python",
   "nbconvert_exporter": "python",
   "pygments_lexer": "ipython3",
   "version": "3.7.3"
  }
 },
 "nbformat": 4,
 "nbformat_minor": 2
}
